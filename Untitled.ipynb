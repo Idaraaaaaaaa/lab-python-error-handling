{
 "cells": [
  {
   "cell_type": "code",
   "execution_count": 109,
   "id": "95ffa0e3-0021-48ef-afa6-a575f623348c",
   "metadata": {},
   "outputs": [],
   "source": [
    "# from shammi ------ (you can TOUCH 😛)\n",
    "\n",
    "# define rooms and items\n",
    "game_room = {\"name\": \"game_room\", \"type\": \"room\"}\n",
    "bedroom_1 = {\"name\": \"bedroom_1\", \"type\": \"room\"}\n",
    "bedroom_2 = {\"name\": \"bedroom_2\", \"type\": \"room\"}\n",
    "living_room = {\"name\": \"living_room\", \"type\": \"room\"}\n",
    "\n",
    "door_a = {\"name\": \"door_a\", \"type\": \"door\", \"desc\": \"A normal wooden door. It seems to require a key.\"}\n",
    "door_b = {\"name\": \"door_b\", \"type\": \"door\", \"desc\": \"A normal wooden door. It seems to require a key.\"}\n",
    "door_c = {\"name\": \"door_c\", \"type\": \"door\", \"desc\": \"A normal wooden door. It seems to require a key.\"}\n",
    "door_d = {\"name\": \"door_d\", \"type\": \"door\", \"desc\": \"A normal wooden door. It seems to require a key.\"}\n",
    "\n",
    "# Changes made to keys: Added \"target\" key to clearly mark which key belongs to which door.\n",
    "\n",
    "key_a = {\"name\": \"key_a\", \"type\": \"key\", \"target\": \"door_a\"}\n",
    "key_b = {\"name\": \"key_b\", \"type\": \"key\", \"target\": \"door_b\"}\n",
    "key_c = {\"name\": \"key_c\", \"type\": \"key\", \"target\": \"door_c\"}\n",
    "key_d = {\"name\": \"key_d\", \"type\": \"key\", \"target\": \"door_d\"}\n",
    "\n",
    "couch = {\"name\": \"couch\", \"type\": \"furniture\", \"desc\": \"An unassuming gray couch. Many people seem to have rested here before you.\"}\n",
    "piano = {\"name\": \"piano\", \"type\": \"furniture\", \"desc\": \"A grand black piano. Its wing is open, revealing the strings... and something shiny.\"}\n",
    "queen_bed = {\"name\": \"queen_bed\", \"type\": \"furniture\", \"desc\": \"A big bed, suitable for two. Looks comfortable...\"}\n",
    "double_bed = {\"name\": \"double_bed\", \"type\": \"furniture\", \"desc\": \"Also a big bed. Weird. As the name suggests, it can hold two...guests?.\"}\n",
    "dresser = {\"name\": \"dresser\", \"type\": \"furniture\", \"desc\": \"A small wooden dresser. Its handles seem to have been handled often.\"}\n",
    "dining_table = {\"name\": \"dining_table\", \"type\": \"furniture\", \"desc\": \"A regular dining table. Four chairs and some empty plates.\"}\n",
    "outside = {\"name\": \"outside\"}\n",
    "\n",
    "all_rooms = [game_room, bedroom_1, bedroom_2, living_room, outside]\n",
    "all_doors = [door_a, door_b, door_c, door_d]\n",
    "all_keys = [key_a, key_b, key_c, key_d]\n",
    "all_furnitures = [couch, piano, queen_bed, double_bed, dresser, dining_table]\n",
    "\n",
    "allVars = globals()\n",
    "\n",
    "\n",
    "# define which items/rooms are related\n",
    "# key and value\n",
    "\n",
    "object_relations = {\n",
    "    \"game_room\": [couch, piano, door_a],\n",
    "    \"bedroom_1\": [door_a, door_b, door_c, queen_bed],\n",
    "    \"bedroom_2\": [double_bed, dresser],\n",
    "    \"living_room\": [dining_table, door_c, door_d],\n",
    "\n",
    "    \"couch\": [],\n",
    "    \"piano\": [key_a],\n",
    "    \"queen_bed\": [key_b],\n",
    "    \"double_bed\": [key_c],\n",
    "    \"dresser\": [key_d],\n",
    "    \"dining_table\": [],\n",
    "\n",
    "    \"door a\": [game_room, bedroom_1],\n",
    "    \"door_b\": [bedroom_1, bedroom_2],\n",
    "    \"door_c\": [bedroom_1, living_room],\n",
    "    \"door_d\": [living_room, outside],\n",
    "}\n",
    "\n",
    "\n",
    "INIT_GAME_STATE = {\n",
    "    \"current_room\": game_room,\n",
    "    \"keys_collected\": set(),\n",
    "    \"target_room\": outside,\n",
    "}"
   ]
  },
  {
   "cell_type": "code",
   "execution_count": 110,
   "id": "3daaab99-9ac2-41ff-b129-0a5ef657c943",
   "metadata": {},
   "outputs": [],
   "source": [
    "def explore_room(current_room):\n",
    "    print(f\"You are now in the {current_room}. Look around and try to identify the items.\")\n",
    "    room_items = [item [\"name\"] for room, items_list in object_relations.items() if room == current_room for item in items_list]\n",
    "    print(\"Items in the room:\", room_items)\n",
    "    return room_items"
   ]
  },
  {
   "cell_type": "code",
   "execution_count": 111,
   "id": "d21092c0-ac02-4f13-95e1-3c04eb1695f4",
   "metadata": {
    "scrolled": true
   },
   "outputs": [
    {
     "name": "stdout",
     "output_type": "stream",
     "text": [
      "You are now in the game_room. Look around and try to identify the items.\n",
      "Items in the room: ['couch', 'piano', 'door_a']\n"
     ]
    }
   ],
   "source": [
    "current_room = \"game_room\"\n",
    "room_items = explore_room(current_room)"
   ]
  },
  {
   "cell_type": "code",
   "execution_count": 114,
   "id": "8abac1c7-48e0-4dda-9258-874484bb0c04",
   "metadata": {},
   "outputs": [],
   "source": [
    "def search_object(current_room, object_relations):\n",
    "    user_input = input(\"Enter the item you want to search: \")\n",
    "    # user_input = \"couch\"\n",
    "    try:\n",
    "      related_items = object_relations[user_input][0][\"name\"]\n",
    "      print(f\"Congratulations, you found {related_items}.\")\n",
    "      game_state[\"keys_collected\"].append(related_items)\n",
    "    except KeyError:\n",
    "      print(\"That does not exist.\")\n",
    "    except IndexError:\n",
    "      print(f\"You find nothing in {user_input.title()}.\")\n",
    "    # related_items = object_relations[\"couch\"]\n",
    "\n",
    "# search_object(game_room, object_relations)"
   ]
  },
  {
   "cell_type": "code",
   "execution_count": 115,
   "id": "94f3ac15-cdc4-4fc6-9463-12dcbe2de801",
   "metadata": {},
   "outputs": [
    {
     "name": "stdin",
     "output_type": "stream",
     "text": [
      "Enter the item you want to search:  piano\n"
     ]
    },
    {
     "name": "stdout",
     "output_type": "stream",
     "text": [
      "Congratulations, you found key_a.\n"
     ]
    }
   ],
   "source": [
    "search_object(game_room, object_relations)"
   ]
  },
  {
   "cell_type": "code",
   "execution_count": 28,
   "id": "770e310a-786c-4263-86f4-3c18c16fd08d",
   "metadata": {},
   "outputs": [
    {
     "name": "stdout",
     "output_type": "stream",
     "text": [
      "You wake up in an escape room.\n"
     ]
    },
    {
     "name": "stdin",
     "output_type": "stream",
     "text": [
      "What would you like to do now? You can explore the room, examine an object or check your inventory. work\n"
     ]
    },
    {
     "name": "stdout",
     "output_type": "stream",
     "text": [
      "You have to choose something. Please type 'explore', 'examine' or 'check'.\n",
      "Finally, you found your way out!\n"
     ]
    }
   ],
   "source": [
    "#  This is Sergejs Cell. -- Please Do not touch --\n",
    "def enter_door(current_room,door,items):\n",
    "    for i in items:\n",
    "        if items[\"target\"] == door:\n",
    "            next_room = object_relations[door].remove(current_room)\n",
    "            print(f\"Good, you have the right key on you. You open the door and step into {next_room}\")\n",
    "\n",
    "def examine_object(current_room, object):\n",
    "  print(f\"You take a look at the {object}.\")\n",
    "  for thing in current_room:\n",
    "    if thing[\"name\"] == object:\n",
    "      print(thing[\"desc\"])\n",
    "      user_input = input(f\"Do you want to search {object}? (yes/no)\")\n",
    "\n",
    "def check_inventory(state):\n",
    "  for item in state:\n",
    "    print(item[\"name\"])\n",
    "\n",
    "def start_game(current_room):\n",
    "\n",
    "  \"\"\"\n",
    "  Explanation incoming.\n",
    "  \"\"\"\n",
    "  for room in all_rooms:\n",
    "    if room[\"name\"] == current_room:\n",
    "      current_room = room\n",
    "\n",
    "  target_room = game_state[\"target_room\"]\n",
    "\n",
    "  print(\"You wake up in an escape room in indonesia.\")\n",
    "  while current_room != target_room:\n",
    "    user_input = input(\"What would you like to do now? You can explore the room, examine an object or check your inventory.\")\n",
    "    if \"explore\" in user_input:\n",
    "      [*items] = explore_room(object_relations[current_room[\"name\"]])\n",
    "      # [*items] = [\"piano\", \"couch\", \"door_a\"]\n",
    "    elif \"examine\" in user_input:\n",
    "      try:\n",
    "        for i in [*items]:\n",
    "          if i in user_input.lower():\n",
    "            examine_object(object_relations[current_room[\"name\"]], i)\n",
    "          else:\n",
    "            print(\"What do you want to look at?\")\n",
    "      except:\n",
    "        print(\"You have to explore the room first...\")\n",
    "    elif \"search\" in user_input:\n",
    "      search_object(current_room, object_relations)\n",
    "    elif \"check\" in user_input:\n",
    "      check_inventory(game_state[\"keys_collected\"])\n",
    "    else:\n",
    "      print(\"You have to choose something. Please type 'explore', 'examine' or 'check'.\")\n",
    "      break\n",
    "\n",
    "  print(\"Finally, you found your way out!\")\n",
    "\n",
    "game_state = INIT_GAME_STATE.copy()\n",
    "\n",
    "start_game(game_state['current_room'])"
   ]
  },
  {
   "cell_type": "code",
   "execution_count": 121,
   "id": "20ba8b4e-5886-4014-b526-251395f89ce0",
   "metadata": {},
   "outputs": [],
   "source": [
    "def enter_door(current_room,door,items):\n",
    "    for i in items:\n",
    "        if items[\"target\"] == door:\n",
    "            next_room = object_relations[door].remove(current_room)\n",
    "            print(f\"Good, you have the right key on you. You open the door and step into {next_room}\")\n"
   ]
  },
  {
   "cell_type": "code",
   "execution_count": 122,
   "id": "9214fd37-0f8e-4f4a-97e1-940d96968851",
   "metadata": {},
   "outputs": [
    {
     "ename": "NameError",
     "evalue": "name 'items' is not defined",
     "output_type": "error",
     "traceback": [
      "\u001b[1;31m---------------------------------------------------------------------------\u001b[0m",
      "\u001b[1;31mNameError\u001b[0m                                 Traceback (most recent call last)",
      "Cell \u001b[1;32mIn[122], line 1\u001b[0m\n\u001b[1;32m----> 1\u001b[0m next_room \u001b[38;5;241m=\u001b[39m enter_door(current_room, door, items, object_relations)\n\u001b[0;32m      2\u001b[0m enter_door(current_room,door,items)\n",
      "\u001b[1;31mNameError\u001b[0m: name 'items' is not defined"
     ]
    }
   ],
   "source": [
    "next_room = enter_door(current_room, door, items, object_relations)\n",
    "enter_door(current_room,door,items)"
   ]
  },
  {
   "cell_type": "code",
   "execution_count": 125,
   "id": "1aff3202-ba83-4ce2-8863-f04ef145974b",
   "metadata": {},
   "outputs": [],
   "source": [
    "def enter_door(current_room, door, items, object_relations):\n",
    "    user_input = input(\"Enter the name of the door you want to enter: \")\n",
    "    for door in object_relations:\n",
    "        if door in items:\n",
    "            next_room = object_relations[door].remove(current_room)\n",
    "            print(f\"Good, you have the {door} key. You open the {door} and step into {next_room}.\")\n",
    "            return next_room\n",
    "        else:\n",
    "            print(f\"Sorry, you don't have the {door} key to open this door.\")\n",
    "    else:\n",
    "        pass\n"
   ]
  },
  {
   "cell_type": "code",
   "execution_count": 126,
   "id": "33469dc0-2821-4ba5-bc12-fcdb662299c0",
   "metadata": {},
   "outputs": [
    {
     "name": "stdin",
     "output_type": "stream",
     "text": [
      "Enter the name of the door you want to enter:  door_a\n"
     ]
    },
    {
     "name": "stdout",
     "output_type": "stream",
     "text": [
      "Sorry, you don't have the game_room key to open this door.\n",
      "Sorry, you don't have the bedroom_1 key to open this door.\n",
      "Sorry, you don't have the bedroom_2 key to open this door.\n",
      "Sorry, you don't have the living_room key to open this door.\n",
      "Sorry, you don't have the couch key to open this door.\n",
      "Sorry, you don't have the piano key to open this door.\n",
      "Sorry, you don't have the queen_bed key to open this door.\n",
      "Sorry, you don't have the double_bed key to open this door.\n",
      "Sorry, you don't have the dresser key to open this door.\n",
      "Sorry, you don't have the dining_table key to open this door.\n",
      "Sorry, you don't have the door a key to open this door.\n",
      "Sorry, you don't have the door_b key to open this door.\n",
      "Sorry, you don't have the door_c key to open this door.\n",
      "Sorry, you don't have the door_d key to open this door.\n"
     ]
    }
   ],
   "source": [
    "current_room = \"game_room\"\n",
    "enter_door(current_room, door, inventory, object_relations)"
   ]
  },
  {
   "cell_type": "code",
   "execution_count": null,
   "id": "25deba5c-9dbe-4348-bf41-0526ed6ed41f",
   "metadata": {},
   "outputs": [],
   "source": []
  }
 ],
 "metadata": {
  "kernelspec": {
   "display_name": "Python 3 (ipykernel)",
   "language": "python",
   "name": "python3"
  },
  "language_info": {
   "codemirror_mode": {
    "name": "ipython",
    "version": 3
   },
   "file_extension": ".py",
   "mimetype": "text/x-python",
   "name": "python",
   "nbconvert_exporter": "python",
   "pygments_lexer": "ipython3",
   "version": "3.11.7"
  }
 },
 "nbformat": 4,
 "nbformat_minor": 5
}
