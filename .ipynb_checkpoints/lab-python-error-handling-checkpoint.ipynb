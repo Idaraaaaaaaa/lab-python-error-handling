{
 "cells": [
  {
   "cell_type": "markdown",
   "id": "25d7736c-ba17-4aff-b6bb-66eba20fbf4e",
   "metadata": {},
   "source": [
    "# Lab | Error Handling"
   ]
  },
  {
   "cell_type": "markdown",
   "id": "bc99b386-7508-47a0-bcdb-d969deaf6c8b",
   "metadata": {},
   "source": [
    "## Exercise: Error Handling for Managing Customer Orders\n",
    "\n",
    "The implementation of your code for managing customer orders assumes that the user will always enter a valid input. \n",
    "\n",
    "For example, we could modify the `initialize_inventory` function to include error handling.\n",
    "   - If the user enters an invalid quantity (e.g., a negative value or a non-numeric value), display an error message and ask them to re-enter the quantity for that product.\n",
    "   - Use a try-except block to handle the error and continue prompting the user until a valid quantity is entered.\n",
    "\n",
    "```python\n",
    "# Step 1: Define the function for initializing the inventory with error handling\n",
    "def initialize_inventory(products):\n",
    "    inventory = {}\n",
    "    for product in products:\n",
    "        valid_quantity = False\n",
    "        while not valid_quantity:\n",
    "            try:\n",
    "                quantity = int(input(f\"Enter the quantity of {product}s available: \"))\n",
    "                if quantity < 0:\n",
    "                    raise ValueError(\"Invalid quantity! Please enter a non-negative value.\")\n",
    "                valid_quantity = True\n",
    "            except ValueError as error:\n",
    "                print(f\"Error: {error}\")\n",
    "        inventory[product] = quantity\n",
    "    return inventory\n",
    "\n",
    "# Or, in another way:\n",
    "\n",
    "def initialize_inventory(products):\n",
    "    inventory = {}\n",
    "    for product in products:\n",
    "        valid_input = False\n",
    "        while not valid_input:\n",
    "            try:\n",
    "                quantity = int(input(f\"Enter the quantity of {product}s available: \"))\n",
    "                if quantity >= 0:\n",
    "                    inventory[product] = quantity\n",
    "                    valid_input = True\n",
    "                else:\n",
    "                    print(\"Quantity cannot be negative. Please enter a valid quantity.\")\n",
    "            except ValueError:\n",
    "                print(\"Invalid input. Please enter a valid quantity.\")\n",
    "    return inventory\n",
    "```\n",
    "\n",
    "Let's enhance your code by implementing error handling to handle invalid inputs.\n",
    "\n",
    "Follow the steps below to complete the exercise:\n",
    "\n",
    "2. Modify the `calculate_total_price` function to include error handling.\n",
    "   - If the user enters an invalid price (e.g., a negative value or a non-numeric value), display an error message and ask them to re-enter the price for that product.\n",
    "   - Use a try-except block to handle the error and continue prompting the user until a valid price is entered.\n",
    "\n",
    "3. Modify the `get_customer_orders` function to include error handling.\n",
    "   - If the user enters an invalid number of orders (e.g., a negative value or a non-numeric value), display an error message and ask them to re-enter the number of orders.\n",
    "   - If the user enters an invalid product name (e.g., a product name that is not in the inventory), or that doesn't have stock available, display an error message and ask them to re-enter the product name. *Hint: you will need to pass inventory as a parameter*\n",
    "   - Use a try-except block to handle the error and continue prompting the user until a valid product name is entered.\n",
    "\n",
    "4. Test your code by running the program and deliberately entering invalid quantities and product names. Make sure the error handling mechanism works as expected.\n"
   ]
  },
  {
   "cell_type": "code",
   "execution_count": 1,
   "id": "aa147403-e8eb-4a74-9776-c5807a00505c",
   "metadata": {},
   "outputs": [],
   "source": [
    "\n",
    "products = [\"t-shirt\", \"mug\", \"hat\", \"book\", \"keychain\"]\n",
    "def initialize_inventory(products):\n",
    "    inventory = {}\n",
    "    for product in products:\n",
    "        valid_quantity = False\n",
    "        while not valid_quantity:\n",
    "            try:\n",
    "                quantity = int(input(f\"Enter the quantity of {product}s available: \"))\n",
    "                if quantity < 0:\n",
    "                    raise ValueError(\"Invalid quantity! Please enter a non-negative value.\")\n",
    "                valid_quantity = True\n",
    "            except ValueError as error:\n",
    "                print(f\"Error: {error}\")\n",
    "        inventory[product] = quantity\n",
    "    return inventory"
   ]
  },
  {
   "cell_type": "code",
   "execution_count": 2,
   "id": "2f511a11-5a3f-42a4-9885-f410ad0b8cb5",
   "metadata": {},
   "outputs": [
    {
     "name": "stdin",
     "output_type": "stream",
     "text": [
      "Enter the quantity of t-shirts available:  9#\n"
     ]
    },
    {
     "name": "stdout",
     "output_type": "stream",
     "text": [
      "Error: invalid literal for int() with base 10: '9#'\n"
     ]
    },
    {
     "name": "stdin",
     "output_type": "stream",
     "text": [
      "Enter the quantity of t-shirts available:  9\n",
      "Enter the quantity of mugs available:  m\n"
     ]
    },
    {
     "name": "stdout",
     "output_type": "stream",
     "text": [
      "Error: invalid literal for int() with base 10: 'm'\n"
     ]
    },
    {
     "name": "stdin",
     "output_type": "stream",
     "text": [
      "Enter the quantity of mugs available:  9\n",
      "Enter the quantity of hats available:  9\n",
      "Enter the quantity of books available:  9\n",
      "Enter the quantity of keychains available:  9\n"
     ]
    }
   ],
   "source": [
    "inventory=initialize_inventory(products)"
   ]
  },
  {
   "cell_type": "code",
   "execution_count": 3,
   "id": "8453c763-24e8-4455-ac65-f94db0f1cb58",
   "metadata": {},
   "outputs": [
    {
     "data": {
      "text/plain": [
       "{'t-shirt': 9, 'mug': 9, 'hat': 9, 'book': 9, 'keychain': 9}"
      ]
     },
     "execution_count": 3,
     "metadata": {},
     "output_type": "execute_result"
    }
   ],
   "source": [
    "inventory"
   ]
  },
  {
   "cell_type": "code",
   "execution_count": 4,
   "id": "f1729c5c-5559-4ec8-b3fd-83c47235b581",
   "metadata": {},
   "outputs": [],
   "source": [
    "def get_customer_orders():\n",
    "    num_orders = int(input(\"Enter the number of customer orders: \"))\n",
    "    customer_orders = {input(f\"Enter product name for order {i + 1}: \") for i in range(num_orders)}\n",
    "    return customer_orders"
   ]
  },
  {
   "cell_type": "code",
   "execution_count": 5,
   "id": "2acaa595-b8b1-4569-91b5-1cc75bc13b84",
   "metadata": {},
   "outputs": [
    {
     "name": "stdin",
     "output_type": "stream",
     "text": [
      "Enter the number of customer orders:  3\n",
      "Enter product name for order 1:  hat\n",
      "Enter product name for order 2:  mug\n",
      "Enter product name for order 3:  book\n"
     ]
    }
   ],
   "source": [
    "customer_orders=get_customer_orders()"
   ]
  },
  {
   "cell_type": "code",
   "execution_count": 6,
   "id": "7339fee0-5271-41fd-94e7-43148df7552d",
   "metadata": {},
   "outputs": [],
   "source": [
    "def calculate_total_price(customer_orders):\n",
    "    product_prices = {\"t-shirt\": 20, \"mug\": 5, \"hat\": 15, \"book\": 12, \"keychain\": 3}\n",
    "    prices = {product: float(input(f\"Enter the price for {product}: \")) for product in customer_orders}\n",
    "    total_price = sum(prices.values())\n",
    "\n",
    "    return total_price"
   ]
  },
  {
   "cell_type": "code",
   "execution_count": 7,
   "id": "d4dd5d6d-2f0c-421d-beb8-48f3632edb3e",
   "metadata": {},
   "outputs": [
    {
     "name": "stdin",
     "output_type": "stream",
     "text": [
      "Enter the price for hat:  15\n",
      "Enter the price for mug:  5\n",
      "Enter the price for book:  12\n"
     ]
    }
   ],
   "source": [
    "total_price=calculate_total_price(customer_orders)"
   ]
  },
  {
   "cell_type": "code",
   "execution_count": 12,
   "id": "6ceef5b0-00bb-4717-a4d4-f12dc9bab38a",
   "metadata": {},
   "outputs": [],
   "source": [
    "# Error handling for calculate_total_price function\n",
    "def calculate_total_price(customer_orders):\n",
    "    total_price = 0\n",
    "    for product in products:\n",
    "        valid_price = False\n",
    "        while not valid_price:\n",
    "            try:\n",
    "                prices = {product: float(input(f\"Enter the price for {product}: \")) for product in customer_orders}\n",
    "                if prices < 0:\n",
    "                    raise ValueError(\"Invalid price! Please enter a non-negative value.\")\n",
    "                valid_price = True\n",
    "            except ValueError as error:\n",
    "                print(f\"Error: {error}\")\n",
    "        total_price += prices\n",
    "    return total_price"
   ]
  },
  {
   "cell_type": "code",
   "execution_count": 13,
   "id": "0ba71dcc-0b1b-40af-879d-8c903cbcc725",
   "metadata": {},
   "outputs": [
    {
     "name": "stdin",
     "output_type": "stream",
     "text": [
      "Enter the price for hat:  15\n",
      "Enter the price for mug:  5\n",
      "Enter the price for book:  12\n"
     ]
    },
    {
     "ename": "TypeError",
     "evalue": "'<' not supported between instances of 'dict' and 'int'",
     "output_type": "error",
     "traceback": [
      "\u001b[1;31m---------------------------------------------------------------------------\u001b[0m",
      "\u001b[1;31mTypeError\u001b[0m                                 Traceback (most recent call last)",
      "Cell \u001b[1;32mIn[13], line 1\u001b[0m\n\u001b[1;32m----> 1\u001b[0m total_price\u001b[38;5;241m=\u001b[39mcalculate_total_price(customer_orders)\n",
      "Cell \u001b[1;32mIn[12], line 9\u001b[0m, in \u001b[0;36mcalculate_total_price\u001b[1;34m(customer_orders)\u001b[0m\n\u001b[0;32m      7\u001b[0m \u001b[38;5;28;01mtry\u001b[39;00m:\n\u001b[0;32m      8\u001b[0m     prices \u001b[38;5;241m=\u001b[39m {product: \u001b[38;5;28mfloat\u001b[39m(\u001b[38;5;28minput\u001b[39m(\u001b[38;5;124mf\u001b[39m\u001b[38;5;124m\"\u001b[39m\u001b[38;5;124mEnter the price for \u001b[39m\u001b[38;5;132;01m{\u001b[39;00mproduct\u001b[38;5;132;01m}\u001b[39;00m\u001b[38;5;124m: \u001b[39m\u001b[38;5;124m\"\u001b[39m)) \u001b[38;5;28;01mfor\u001b[39;00m product \u001b[38;5;129;01min\u001b[39;00m customer_orders}\n\u001b[1;32m----> 9\u001b[0m     \u001b[38;5;28;01mif\u001b[39;00m prices \u001b[38;5;241m<\u001b[39m \u001b[38;5;241m0\u001b[39m:\n\u001b[0;32m     10\u001b[0m         \u001b[38;5;28;01mraise\u001b[39;00m \u001b[38;5;167;01mValueError\u001b[39;00m(\u001b[38;5;124m\"\u001b[39m\u001b[38;5;124mInvalid price! Please enter a non-negative value.\u001b[39m\u001b[38;5;124m\"\u001b[39m)\n\u001b[0;32m     11\u001b[0m     valid_price \u001b[38;5;241m=\u001b[39m \u001b[38;5;28;01mTrue\u001b[39;00m\n",
      "\u001b[1;31mTypeError\u001b[0m: '<' not supported between instances of 'dict' and 'int'"
     ]
    }
   ],
   "source": [
    "total_price=calculate_total_price(customer_orders)"
   ]
  },
  {
   "cell_type": "code",
   "execution_count": null,
   "id": "dbb69186-2ee4-4515-a86b-22d37ead2c1f",
   "metadata": {},
   "outputs": [],
   "source": []
  },
  {
   "cell_type": "code",
   "execution_count": 16,
   "id": "76566949-c9bd-445e-ba39-47860c056383",
   "metadata": {},
   "outputs": [],
   "source": [
    "# Error handling for get_customer_orders function\n",
    "def get_customer_orders():\n",
    "    customer_orders = {}\n",
    "    while True:\n",
    "        product = input(\"Enter the product you want to order (or 'done' to finish): \").lower()\n",
    "        if product == 'done':\n",
    "            break\n",
    "        try:\n",
    "            quantity = int(input(\"Enter the quantity: \"))\n",
    "            if quantity <= 0:\n",
    "                raise ValueError(\"Invalid quantity! Please enter a positive value.\")\n",
    "            if product not in inventory or inventory[product] < quantity:\n",
    "                raise ValueError(\"Product not available or insufficient stock!\")\n",
    "            customer_orders[product] = quantity\n",
    "        except ValueError as error:\n",
    "            print(f\"Error: {error}\")\n",
    "    return customer_orders"
   ]
  },
  {
   "cell_type": "code",
   "execution_count": 17,
   "id": "8c62f12f-8d2d-4b66-85ea-94e703c9e77c",
   "metadata": {},
   "outputs": [
    {
     "name": "stdin",
     "output_type": "stream",
     "text": [
      "Enter the product you want to order (or 'done' to finish):  hat\n",
      "Enter the quantity:  8\n",
      "Enter the product you want to order (or 'done' to finish):  book\n",
      "Enter the quantity:  2\n",
      "Enter the product you want to order (or 'done' to finish):  mug\n",
      "Enter the quantity:  3\n",
      "Enter the product you want to order (or 'done' to finish):  done\n"
     ]
    }
   ],
   "source": [
    "customer_orders=get_customer_orders()"
   ]
  },
  {
   "cell_type": "code",
   "execution_count": null,
   "id": "16c87e26-292f-4d2f-934c-03a485960274",
   "metadata": {},
   "outputs": [],
   "source": []
  }
 ],
 "metadata": {
  "kernelspec": {
   "display_name": "Python 3 (ipykernel)",
   "language": "python",
   "name": "python3"
  },
  "language_info": {
   "codemirror_mode": {
    "name": "ipython",
    "version": 3
   },
   "file_extension": ".py",
   "mimetype": "text/x-python",
   "name": "python",
   "nbconvert_exporter": "python",
   "pygments_lexer": "ipython3",
   "version": "3.11.7"
  }
 },
 "nbformat": 4,
 "nbformat_minor": 5
}
